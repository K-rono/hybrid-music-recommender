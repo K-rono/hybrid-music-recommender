{
  "cells": [
    {
      "cell_type": "code",
      "execution_count": null,
      "metadata": {
        "id": "qUTrZwgmb2uj"
      },
      "outputs": [],
      "source": [
        "import librosa\n",
        "import pandas as pd\n",
        "\n",
        "# Path to dataset\n",
        "dataset_path = ''\n",
        "\n",
        "music_list = pd.read_csv(dataset_path + 'music_list.csv')\n",
        "\n",
        "user_behavior_list = pd.read_csv(dataset_path + 'user_behavior_list.csv')"
      ]
    },
    {
      "cell_type": "code",
      "execution_count": 4,
      "metadata": {
        "id": "aKo-aU3_b40X"
      },
      "outputs": [],
      "source": [
        "#Grouping songs of each user\n",
        "\n",
        "user_song_list = (\n",
        "  user_behavior_list\n",
        "  .groupby('user_id', observed=True)[['track_id', 'playcount']]\n",
        "  .apply(lambda x: list(zip(x['track_id'], x['playcount'])))\n",
        "  .to_dict()\n",
        ")"
      ]
    },
    {
      "cell_type": "code",
      "execution_count": 5,
      "metadata": {
        "id": "wxkfoqT5b6X2"
      },
      "outputs": [],
      "source": [
        "user_song_list = {user: songs for user, songs in user_song_list.items() if len(songs) >= 50}"
      ]
    },
    {
      "cell_type": "code",
      "execution_count": 6,
      "metadata": {
        "colab": {
          "base_uri": "https://localhost:8080/"
        },
        "id": "NLZLjU6eb8Qo",
        "outputId": "820c0e2e-8a0b-4b91-9450-b1c79cad6be7"
      },
      "outputs": [
        {
          "name": "stdout",
          "output_type": "stream",
          "text": [
            "                   track_id                                   user_id  \\\n",
            "121      TRLATHU128F92FC275  5a905f000fc1ff3df7ca807d57edb608863db05d   \n",
            "122      TRMKFPN128F42858C3  5a905f000fc1ff3df7ca807d57edb608863db05d   \n",
            "123      TRTSSUT128F1472A51  5a905f000fc1ff3df7ca807d57edb608863db05d   \n",
            "124      TRNJLKP128F427CE28  5a905f000fc1ff3df7ca807d57edb608863db05d   \n",
            "125      TRGAOLV128E0789D40  5a905f000fc1ff3df7ca807d57edb608863db05d   \n",
            "...                     ...                                       ...   \n",
            "9711269  TRGCHLH12903CB7352  8305c896f42308824da7d4386f4b9ee584281412   \n",
            "9711270  TRVSJOM12903CD2DC1  8305c896f42308824da7d4386f4b9ee584281412   \n",
            "9711271  TRAALAH128E078234A  8305c896f42308824da7d4386f4b9ee584281412   \n",
            "9711272  TRTKLFX12903CD2DC2  8305c896f42308824da7d4386f4b9ee584281412   \n",
            "9711273  TRZYAGJ128F9332CEF  8305c896f42308824da7d4386f4b9ee584281412   \n",
            "\n",
            "         playcount  \n",
            "121             11  \n",
            "122              2  \n",
            "123              1  \n",
            "124              1  \n",
            "125              2  \n",
            "...            ...  \n",
            "9711269          5  \n",
            "9711270          1  \n",
            "9711271          2  \n",
            "9711272          2  \n",
            "9711273          1  \n",
            "\n",
            "[1808122 rows x 3 columns]\n"
          ]
        }
      ],
      "source": [
        "user_behavior_list = user_behavior_list[user_behavior_list['user_id'].isin(user_song_list.keys())]\n",
        "user_behavior_list.shape\n",
        "\n",
        "print(user_behavior_list)"
      ]
    },
    {
      "cell_type": "code",
      "execution_count": 7,
      "metadata": {
        "colab": {
          "base_uri": "https://localhost:8080/"
        },
        "id": "3DFUOTOEb9al",
        "outputId": "9bfb8f82-89e8-4fbf-eb8f-f706927dbd14"
      },
      "outputs": [
        {
          "data": {
            "text/plain": [
              "(377381, 3)"
            ]
          },
          "execution_count": 7,
          "metadata": {},
          "output_type": "execute_result"
        }
      ],
      "source": [
        "import numpy as np\n",
        "\n",
        "# Assuming 'user_song_list' contains the users with listening history >= 50 songs\n",
        "active_users = list(user_song_list.keys())\n",
        "\n",
        "# Sample 5000 active users\n",
        "rng = np.random.default_rng(seed=42)\n",
        "sampled_users = rng.choice(active_users, size=5000, replace=False)\n",
        "\n",
        "# Filter the user_behavior_list DataFrame to include only sampled users\n",
        "user_behavior_list = user_behavior_list[user_behavior_list['user_id'].isin(sampled_users)]\n",
        "\n",
        "user_behavior_list.shape"
      ]
    },
    {
      "cell_type": "code",
      "execution_count": 8,
      "metadata": {
        "id": "xo8O45gfb-f9"
      },
      "outputs": [],
      "source": [
        "from sklearn.utils import shuffle\n",
        "\n",
        "user_behavior_list = shuffle(user_behavior_list, random_state=42)"
      ]
    },
    {
      "cell_type": "code",
      "execution_count": 9,
      "metadata": {
        "colab": {
          "base_uri": "https://localhost:8080/"
        },
        "id": "ZU5smUrpb_nH",
        "outputId": "297e5655-daef-4633-b89e-ef0d54fdabfe"
      },
      "outputs": [
        {
          "name": "stdout",
          "output_type": "stream",
          "text": [
            "Shape of train_df: (301961, 3)\n",
            "Shape of test_df: (75420, 3)\n"
          ]
        },
        {
          "name": "stderr",
          "output_type": "stream",
          "text": [
            "/tmp/ipython-input-3558157495.py:4: DeprecationWarning: DataFrameGroupBy.apply operated on the grouping columns. This behavior is deprecated, and in a future version of pandas the grouping columns will be excluded from the operation. Either pass `include_groups=False` to exclude the groupings or explicitly select the grouping columns after groupby to silence this warning.\n",
            "  train_df = user_behavior_list.groupby('user_id', group_keys=False).apply(lambda x: x.sample(frac=0.8, random_state=42))\n"
          ]
        }
      ],
      "source": [
        "from sklearn.model_selection import train_test_split\n",
        "\n",
        "# Perform train-test split on a per-user basis\n",
        "train_df = user_behavior_list.groupby('user_id', group_keys=False).apply(lambda x: x.sample(frac=0.8, random_state=42))\n",
        "test_df = user_behavior_list.drop(train_df.index)\n",
        "\n",
        "print(\"Shape of train_df:\", train_df.shape)\n",
        "print(\"Shape of test_df:\", test_df.shape)"
      ]
    },
    {
      "cell_type": "code",
      "execution_count": 10,
      "metadata": {
        "colab": {
          "base_uri": "https://localhost:8080/"
        },
        "id": "gGRaEkAacDRm",
        "outputId": "79c1a118-e1f4-4bd3-c251-2443676dc492"
      },
      "outputs": [
        {
          "name": "stdout",
          "output_type": "stream",
          "text": [
            "Shape of the new sampled_music_list (unique tracks from user behavior): (21087, 21)\n"
          ]
        }
      ],
      "source": [
        "# Instead of sampling from the original music_list,\n",
        "# filter music_list to include only the unique tracks present in the user_behavior_list\n",
        "# after filtering for active users.\n",
        "\n",
        "# Get the unique track IDs from the user_behavior_list (which has already been filtered for active users)\n",
        "unique_tracks_in_behavior = user_behavior_list['track_id'].unique()\n",
        "\n",
        "# Filter the original music_list to keep only these unique tracks\n",
        "sampled_music_list = music_list[music_list['track_id'].isin(unique_tracks_in_behavior)].copy()\n",
        "\n",
        "print(\"Shape of the new sampled_music_list (unique tracks from user behavior):\", sampled_music_list.shape)"
      ]
    },
    {
      "cell_type": "code",
      "execution_count": 11,
      "metadata": {
        "colab": {
          "base_uri": "https://localhost:8080/",
          "height": 381
        },
        "id": "50278178",
        "outputId": "fd531746-7b33-4a9f-b826-729166001c7a"
      },
      "outputs": [
        {
          "name": "stdout",
          "output_type": "stream",
          "text": [
            "Top 10 Most Popular Songs:\n"
          ]
        },
        {
          "data": {
            "application/vnd.google.colaboratory.intrinsic+json": {
              "summary": "{\n  \"name\": \"display(popularity_sorted_music[['name', 'artist', 'total_playcount']]\",\n  \"rows\": 10,\n  \"fields\": [\n    {\n      \"column\": \"name\",\n      \"properties\": {\n        \"dtype\": \"string\",\n        \"num_unique_values\": 10,\n        \"samples\": [\n          \"Skinny Love\",\n          \"MIA\",\n          \"Rabbit Heart (Raise It Up)\"\n        ],\n        \"semantic_type\": \"\",\n        \"description\": \"\"\n      }\n    },\n    {\n      \"column\": \"artist\",\n      \"properties\": {\n        \"dtype\": \"string\",\n        \"num_unique_values\": 10,\n        \"samples\": [\n          \"Bon Iver\",\n          \"Chevelle\",\n          \"Florence + the Machine\"\n        ],\n        \"semantic_type\": \"\",\n        \"description\": \"\"\n      }\n    },\n    {\n      \"column\": \"total_playcount\",\n      \"properties\": {\n        \"dtype\": \"number\",\n        \"std\": 505,\n        \"min\": 1149,\n        \"max\": 2742,\n        \"num_unique_values\": 10,\n        \"samples\": [\n          1250,\n          2163,\n          1336\n        ],\n        \"semantic_type\": \"\",\n        \"description\": \"\"\n      }\n    }\n  ]\n}",
              "type": "dataframe"
            },
            "text/html": [
              "\n",
              "  <div id=\"df-0493a498-f4fb-43e8-98b7-f01c839b7c75\" class=\"colab-df-container\">\n",
              "    <div>\n",
              "<style scoped>\n",
              "    .dataframe tbody tr th:only-of-type {\n",
              "        vertical-align: middle;\n",
              "    }\n",
              "\n",
              "    .dataframe tbody tr th {\n",
              "        vertical-align: top;\n",
              "    }\n",
              "\n",
              "    .dataframe thead th {\n",
              "        text-align: right;\n",
              "    }\n",
              "</style>\n",
              "<table border=\"1\" class=\"dataframe\">\n",
              "  <thead>\n",
              "    <tr style=\"text-align: right;\">\n",
              "      <th></th>\n",
              "      <th>name</th>\n",
              "      <th>artist</th>\n",
              "      <th>total_playcount</th>\n",
              "    </tr>\n",
              "  </thead>\n",
              "  <tbody>\n",
              "    <tr>\n",
              "      <th>96</th>\n",
              "      <td>Revelry</td>\n",
              "      <td>Kings of Leon</td>\n",
              "      <td>2742</td>\n",
              "    </tr>\n",
              "    <tr>\n",
              "      <th>14537</th>\n",
              "      <td>MIA</td>\n",
              "      <td>Chevelle</td>\n",
              "      <td>2163</td>\n",
              "    </tr>\n",
              "    <tr>\n",
              "      <th>20</th>\n",
              "      <td>Float On</td>\n",
              "      <td>Modest Mouse</td>\n",
              "      <td>1781</td>\n",
              "    </tr>\n",
              "    <tr>\n",
              "      <th>317</th>\n",
              "      <td>Help I'm Alive</td>\n",
              "      <td>Metric</td>\n",
              "      <td>1714</td>\n",
              "    </tr>\n",
              "    <tr>\n",
              "      <th>23</th>\n",
              "      <td>Such Great Heights</td>\n",
              "      <td>The Postal Service</td>\n",
              "      <td>1713</td>\n",
              "    </tr>\n",
              "    <tr>\n",
              "      <th>123</th>\n",
              "      <td>Rabbit Heart (Raise It Up)</td>\n",
              "      <td>Florence + the Machine</td>\n",
              "      <td>1336</td>\n",
              "    </tr>\n",
              "    <tr>\n",
              "      <th>905</th>\n",
              "      <td>Lights &amp; Music</td>\n",
              "      <td>Cut Copy</td>\n",
              "      <td>1257</td>\n",
              "    </tr>\n",
              "    <tr>\n",
              "      <th>719</th>\n",
              "      <td>DVNO</td>\n",
              "      <td>Justice</td>\n",
              "      <td>1252</td>\n",
              "    </tr>\n",
              "    <tr>\n",
              "      <th>2037</th>\n",
              "      <td>Skinny Love</td>\n",
              "      <td>Bon Iver</td>\n",
              "      <td>1250</td>\n",
              "    </tr>\n",
              "    <tr>\n",
              "      <th>1001</th>\n",
              "      <td>Fancy Footwork</td>\n",
              "      <td>Chromeo</td>\n",
              "      <td>1149</td>\n",
              "    </tr>\n",
              "  </tbody>\n",
              "</table>\n",
              "</div>\n",
              "    <div class=\"colab-df-buttons\">\n",
              "\n",
              "  <div class=\"colab-df-container\">\n",
              "    <button class=\"colab-df-convert\" onclick=\"convertToInteractive('df-0493a498-f4fb-43e8-98b7-f01c839b7c75')\"\n",
              "            title=\"Convert this dataframe to an interactive table.\"\n",
              "            style=\"display:none;\">\n",
              "\n",
              "  <svg xmlns=\"http://www.w3.org/2000/svg\" height=\"24px\" viewBox=\"0 -960 960 960\">\n",
              "    <path d=\"M120-120v-720h720v720H120Zm60-500h600v-160H180v160Zm220 220h160v-160H400v160Zm0 220h160v-160H400v160ZM180-400h160v-160H180v160Zm440 0h160v-160H620v160ZM180-180h160v-160H180v160Zm440 0h160v-160H620v160Z\"/>\n",
              "  </svg>\n",
              "    </button>\n",
              "\n",
              "  <style>\n",
              "    .colab-df-container {\n",
              "      display:flex;\n",
              "      gap: 12px;\n",
              "    }\n",
              "\n",
              "    .colab-df-convert {\n",
              "      background-color: #E8F0FE;\n",
              "      border: none;\n",
              "      border-radius: 50%;\n",
              "      cursor: pointer;\n",
              "      display: none;\n",
              "      fill: #1967D2;\n",
              "      height: 32px;\n",
              "      padding: 0 0 0 0;\n",
              "      width: 32px;\n",
              "    }\n",
              "\n",
              "    .colab-df-convert:hover {\n",
              "      background-color: #E2EBFA;\n",
              "      box-shadow: 0px 1px 2px rgba(60, 64, 67, 0.3), 0px 1px 3px 1px rgba(60, 64, 67, 0.15);\n",
              "      fill: #174EA6;\n",
              "    }\n",
              "\n",
              "    .colab-df-buttons div {\n",
              "      margin-bottom: 4px;\n",
              "    }\n",
              "\n",
              "    [theme=dark] .colab-df-convert {\n",
              "      background-color: #3B4455;\n",
              "      fill: #D2E3FC;\n",
              "    }\n",
              "\n",
              "    [theme=dark] .colab-df-convert:hover {\n",
              "      background-color: #434B5C;\n",
              "      box-shadow: 0px 1px 3px 1px rgba(0, 0, 0, 0.15);\n",
              "      filter: drop-shadow(0px 1px 2px rgba(0, 0, 0, 0.3));\n",
              "      fill: #FFFFFF;\n",
              "    }\n",
              "  </style>\n",
              "\n",
              "    <script>\n",
              "      const buttonEl =\n",
              "        document.querySelector('#df-0493a498-f4fb-43e8-98b7-f01c839b7c75 button.colab-df-convert');\n",
              "      buttonEl.style.display =\n",
              "        google.colab.kernel.accessAllowed ? 'block' : 'none';\n",
              "\n",
              "      async function convertToInteractive(key) {\n",
              "        const element = document.querySelector('#df-0493a498-f4fb-43e8-98b7-f01c839b7c75');\n",
              "        const dataTable =\n",
              "          await google.colab.kernel.invokeFunction('convertToInteractive',\n",
              "                                                    [key], {});\n",
              "        if (!dataTable) return;\n",
              "\n",
              "        const docLinkHtml = 'Like what you see? Visit the ' +\n",
              "          '<a target=\"_blank\" href=https://colab.research.google.com/notebooks/data_table.ipynb>data table notebook</a>'\n",
              "          + ' to learn more about interactive tables.';\n",
              "        element.innerHTML = '';\n",
              "        dataTable['output_type'] = 'display_data';\n",
              "        await google.colab.output.renderOutput(dataTable, element);\n",
              "        const docLink = document.createElement('div');\n",
              "        docLink.innerHTML = docLinkHtml;\n",
              "        element.appendChild(docLink);\n",
              "      }\n",
              "    </script>\n",
              "  </div>\n",
              "\n",
              "\n",
              "    <div id=\"df-6873e5e5-92ac-49f7-b62f-c6a4269dcb9d\">\n",
              "      <button class=\"colab-df-quickchart\" onclick=\"quickchart('df-6873e5e5-92ac-49f7-b62f-c6a4269dcb9d')\"\n",
              "                title=\"Suggest charts\"\n",
              "                style=\"display:none;\">\n",
              "\n",
              "<svg xmlns=\"http://www.w3.org/2000/svg\" height=\"24px\"viewBox=\"0 0 24 24\"\n",
              "     width=\"24px\">\n",
              "    <g>\n",
              "        <path d=\"M19 3H5c-1.1 0-2 .9-2 2v14c0 1.1.9 2 2 2h14c1.1 0 2-.9 2-2V5c0-1.1-.9-2-2-2zM9 17H7v-7h2v7zm4 0h-2V7h2v10zm4 0h-2v-4h2v4z\"/>\n",
              "    </g>\n",
              "</svg>\n",
              "      </button>\n",
              "\n",
              "<style>\n",
              "  .colab-df-quickchart {\n",
              "      --bg-color: #E8F0FE;\n",
              "      --fill-color: #1967D2;\n",
              "      --hover-bg-color: #E2EBFA;\n",
              "      --hover-fill-color: #174EA6;\n",
              "      --disabled-fill-color: #AAA;\n",
              "      --disabled-bg-color: #DDD;\n",
              "  }\n",
              "\n",
              "  [theme=dark] .colab-df-quickchart {\n",
              "      --bg-color: #3B4455;\n",
              "      --fill-color: #D2E3FC;\n",
              "      --hover-bg-color: #434B5C;\n",
              "      --hover-fill-color: #FFFFFF;\n",
              "      --disabled-bg-color: #3B4455;\n",
              "      --disabled-fill-color: #666;\n",
              "  }\n",
              "\n",
              "  .colab-df-quickchart {\n",
              "    background-color: var(--bg-color);\n",
              "    border: none;\n",
              "    border-radius: 50%;\n",
              "    cursor: pointer;\n",
              "    display: none;\n",
              "    fill: var(--fill-color);\n",
              "    height: 32px;\n",
              "    padding: 0;\n",
              "    width: 32px;\n",
              "  }\n",
              "\n",
              "  .colab-df-quickchart:hover {\n",
              "    background-color: var(--hover-bg-color);\n",
              "    box-shadow: 0 1px 2px rgba(60, 64, 67, 0.3), 0 1px 3px 1px rgba(60, 64, 67, 0.15);\n",
              "    fill: var(--button-hover-fill-color);\n",
              "  }\n",
              "\n",
              "  .colab-df-quickchart-complete:disabled,\n",
              "  .colab-df-quickchart-complete:disabled:hover {\n",
              "    background-color: var(--disabled-bg-color);\n",
              "    fill: var(--disabled-fill-color);\n",
              "    box-shadow: none;\n",
              "  }\n",
              "\n",
              "  .colab-df-spinner {\n",
              "    border: 2px solid var(--fill-color);\n",
              "    border-color: transparent;\n",
              "    border-bottom-color: var(--fill-color);\n",
              "    animation:\n",
              "      spin 1s steps(1) infinite;\n",
              "  }\n",
              "\n",
              "  @keyframes spin {\n",
              "    0% {\n",
              "      border-color: transparent;\n",
              "      border-bottom-color: var(--fill-color);\n",
              "      border-left-color: var(--fill-color);\n",
              "    }\n",
              "    20% {\n",
              "      border-color: transparent;\n",
              "      border-left-color: var(--fill-color);\n",
              "      border-top-color: var(--fill-color);\n",
              "    }\n",
              "    30% {\n",
              "      border-color: transparent;\n",
              "      border-left-color: var(--fill-color);\n",
              "      border-top-color: var(--fill-color);\n",
              "      border-right-color: var(--fill-color);\n",
              "    }\n",
              "    40% {\n",
              "      border-color: transparent;\n",
              "      border-right-color: var(--fill-color);\n",
              "      border-top-color: var(--fill-color);\n",
              "    }\n",
              "    60% {\n",
              "      border-color: transparent;\n",
              "      border-right-color: var(--fill-color);\n",
              "    }\n",
              "    80% {\n",
              "      border-color: transparent;\n",
              "      border-right-color: var(--fill-color);\n",
              "      border-bottom-color: var(--fill-color);\n",
              "    }\n",
              "    90% {\n",
              "      border-color: transparent;\n",
              "      border-bottom-color: var(--fill-color);\n",
              "    }\n",
              "  }\n",
              "</style>\n",
              "\n",
              "      <script>\n",
              "        async function quickchart(key) {\n",
              "          const quickchartButtonEl =\n",
              "            document.querySelector('#' + key + ' button');\n",
              "          quickchartButtonEl.disabled = true;  // To prevent multiple clicks.\n",
              "          quickchartButtonEl.classList.add('colab-df-spinner');\n",
              "          try {\n",
              "            const charts = await google.colab.kernel.invokeFunction(\n",
              "                'suggestCharts', [key], {});\n",
              "          } catch (error) {\n",
              "            console.error('Error during call to suggestCharts:', error);\n",
              "          }\n",
              "          quickchartButtonEl.classList.remove('colab-df-spinner');\n",
              "          quickchartButtonEl.classList.add('colab-df-quickchart-complete');\n",
              "        }\n",
              "        (() => {\n",
              "          let quickchartButtonEl =\n",
              "            document.querySelector('#df-6873e5e5-92ac-49f7-b62f-c6a4269dcb9d button');\n",
              "          quickchartButtonEl.style.display =\n",
              "            google.colab.kernel.accessAllowed ? 'block' : 'none';\n",
              "        })();\n",
              "      </script>\n",
              "    </div>\n",
              "\n",
              "    </div>\n",
              "  </div>\n"
            ],
            "text/plain": [
              "                             name                  artist  total_playcount\n",
              "96                        Revelry           Kings of Leon             2742\n",
              "14537                         MIA                Chevelle             2163\n",
              "20                       Float On            Modest Mouse             1781\n",
              "317                Help I'm Alive                  Metric             1714\n",
              "23             Such Great Heights      The Postal Service             1713\n",
              "123    Rabbit Heart (Raise It Up)  Florence + the Machine             1336\n",
              "905                Lights & Music                Cut Copy             1257\n",
              "719                          DVNO                 Justice             1252\n",
              "2037                  Skinny Love                Bon Iver             1250\n",
              "1001               Fancy Footwork                 Chromeo             1149"
            ]
          },
          "metadata": {},
          "output_type": "display_data"
        }
      ],
      "source": [
        "# Calculate the total playcount for each track in the user_behavior_list\n",
        "track_popularity = user_behavior_list.groupby('track_id')['playcount'].sum().reset_index()\n",
        "track_popularity.rename(columns={'playcount': 'total_playcount'}, inplace=True)\n",
        "\n",
        "# Merge the popularity information with the sampled_music_list\n",
        "# We use a left merge to keep all tracks in sampled_music_list,\n",
        "# filling any missing total_playcount with 0 (for tracks that were not in the sampled user behavior)\n",
        "sampled_music_list_with_popularity = pd.merge(sampled_music_list, track_popularity, on='track_id', how='left')\n",
        "sampled_music_list_with_popularity['total_playcount'] = sampled_music_list_with_popularity['total_playcount'].fillna(0).astype(int)\n",
        "\n",
        "# Sort the songs by total playcount in descending order\n",
        "popularity_sorted_music = sampled_music_list_with_popularity.sort_values(by='total_playcount', ascending=False)\n",
        "\n",
        "# Display the top 10 most popular songs\n",
        "print(\"Top 10 Most Popular Songs:\")\n",
        "display(popularity_sorted_music[['name', 'artist', 'total_playcount']].head(10))"
      ]
    }
  ],
  "metadata": {
    "colab": {
      "provenance": []
    },
    "kernelspec": {
      "display_name": "Python 3",
      "name": "python3"
    },
    "language_info": {
      "name": "python"
    }
  },
  "nbformat": 4,
  "nbformat_minor": 0
}
